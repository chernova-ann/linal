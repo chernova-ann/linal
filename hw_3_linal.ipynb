{
  "nbformat": 4,
  "nbformat_minor": 0,
  "metadata": {
    "colab": {
      "name": "hw_3_linal.ipynb",
      "provenance": [],
      "collapsed_sections": []
    },
    "kernelspec": {
      "name": "python3",
      "display_name": "Python 3"
    }
  },
  "cells": [
    {
      "cell_type": "code",
      "metadata": {
        "id": "5_fit6PjWxBc"
      },
      "source": [
        "import numpy as np"
      ],
      "execution_count": null,
      "outputs": []
    },
    {
      "cell_type": "markdown",
      "metadata": {
        "id": "Q8HoHggZqjun"
      },
      "source": [
        "__5.1.__ Найти собственные векторы и собственные значения для линейного оператора, заданного матрицей\n",
        "\n",
        "$$A=\\begin{pmatrix}\n",
        "-1 & -6\\\\ \n",
        "2 & 6\n",
        "\\end{pmatrix}.$$\n",
        "\n",
        "Собственное значение:\n",
        "$$\\begin{vmatrix}\n",
        "-1-\\lambda & -6\\\\ \n",
        "2 & 6-\\lambda\n",
        "\\end{vmatrix} = 0$$\n",
        "\n",
        "$$(-1-\\lambda)(6-\\lambda)-(-6)\\cdot2=0$$\n",
        "$$(\\lambda+1)(\\lambda-6)+12=0$$\n",
        "$$\\lambda^2 - 6\\lambda + \\lambda - 6 +12=0$$\n",
        "$$\\lambda^2 - 5\\lambda +6 = 0$$\n",
        "$$\\lambda_{1} = 2 \\ \\lambda_{2} = 3$$\n",
        "\n",
        "\n",
        "Теперь найдем собственные векторы вида $\\begin{pmatrix}\n",
        "x_{1}\\\\ \n",
        "x_{2}\n",
        "\\end{pmatrix}$, подставив полученное собственное значение в выражение $\\textbf{A}x=\\lambda x$:\n",
        "\n",
        "$$\\begin{pmatrix}\n",
        "-1 & -6\\\\ \n",
        "2 & 6\n",
        "\\end{pmatrix}\n",
        "\\begin{pmatrix}\n",
        "x_{1}\\\\ \n",
        "x_{2}\n",
        "\\end{pmatrix}=\n",
        "\\lambda\n",
        "\\begin{pmatrix}\n",
        "x_{1}\\\\ \n",
        "x_{2}\n",
        "\\end{pmatrix}.\n",
        "$$"
      ]
    },
    {
      "cell_type": "markdown",
      "metadata": {
        "id": "hXuzEaGguTHo"
      },
      "source": [
        "При $\\lambda = 2$\n",
        "получим\n",
        "$$\\begin{cases}\n",
        "-x_{1}-6x_{2}= 2x_{1}, \\\\\n",
        "2x_{1}+6x_{2}= 2x_{2}.\n",
        "\\end{cases}$$ \n",
        "\n",
        "Перенеся все в левую часть, получим\n",
        "\n",
        "$$\\begin{cases}\n",
        "-3x_{1}-6x_{2}= 0, \\\\\n",
        "2x_{1} + 4x_{2} = 0;\n",
        "\\end{cases}$$ \n",
        "\n",
        "$$\\begin{cases}\n",
        "3x_{1}= -6x_{2}, \\\\\n",
        "x_{1} = -2x_{2}\n",
        "\\end{cases}$$ \n",
        "Может быть вектор $\\begin{pmatrix}\n",
        "0\\\\ \n",
        "0\n",
        "\\end{pmatrix}$ $\\begin{pmatrix}\n",
        "-2\\\\ \n",
        "1\n",
        "\\end{pmatrix}$\n"
      ]
    },
    {
      "cell_type": "markdown",
      "metadata": {
        "id": "svLvJwbouV5J"
      },
      "source": [
        "При $\\lambda = 3$\n",
        "получим\n",
        "$$\\begin{cases}\n",
        "-x_{1}-6x_{2}= 3x_{1}, \\\\\n",
        "2x_{1}+6x_{2}= 3x_{2}.\n",
        "\\end{cases}$$ \n",
        "\n",
        "Перенеся все в левую часть, получим\n",
        "\n",
        "$$\\begin{cases}\n",
        "-4x_{1}-6x_{2}= 0, \\\\\n",
        "2x_{1} + 3x_{2} = 0;\n",
        "\\end{cases}$$ \n",
        "\n",
        "$$\\begin{cases}\n",
        "2x_{1}= -3x_{2}, \\\\\n",
        "x_{1} = -1,5x_{2}\n",
        "\\end{cases}$$ \n",
        "Может быть вектор $\\begin{pmatrix}\n",
        "0\\\\ \n",
        "0\n",
        "\\end{pmatrix}$ $\\begin{pmatrix}\n",
        "-3\\\\ \n",
        "2\n",
        "\\end{pmatrix}$\n"
      ]
    },
    {
      "cell_type": "code",
      "metadata": {
        "id": "sWrBKBOR1VQw",
        "outputId": "010a90ed-8cf1-45a7-c83c-5465cbd9fb32",
        "colab": {
          "base_uri": "https://localhost:8080/"
        }
      },
      "source": [
        "a = np.array([[-1, -6], [2, 6]])\n",
        "w, v = np.linalg.eig(a)\n",
        "\n",
        "print(f'Матрица A:\\n{a}')\n",
        "print(f'Собственные значения:\\n{w}')\n",
        "print(f'Собственные векторы:\\n{v}')"
      ],
      "execution_count": null,
      "outputs": [
        {
          "output_type": "stream",
          "text": [
            "Матрица A:\n",
            "[[-1 -6]\n",
            " [ 2  6]]\n",
            "Собственные значения:\n",
            "[2. 3.]\n",
            "Собственные векторы:\n",
            "[[-0.89442719  0.83205029]\n",
            " [ 0.4472136  -0.5547002 ]]\n"
          ],
          "name": "stdout"
        }
      ]
    },
    {
      "cell_type": "markdown",
      "metadata": {
        "id": "cXmAvKI8vQwf"
      },
      "source": [
        "__5.2.__ Дан оператор поворота на 180 градусов, задаваемый матрицей \n",
        "\n",
        "$$A=\\begin{pmatrix}\n",
        "-1 & 0\\\\ \n",
        "0 & -1\n",
        "\\end{pmatrix}.$$\n",
        "\n",
        "Показать, что __любой__ вектор является для него собственным."
      ]
    },
    {
      "cell_type": "markdown",
      "metadata": {
        "id": "svzLjgZBvfSs"
      },
      "source": [
        "Собственное значение:\n",
        "$$\\begin{vmatrix}\n",
        "-1-\\lambda & 0\\\\ \n",
        "0 & -1-\\lambda\n",
        "\\end{vmatrix} = 0$$\n",
        "\n",
        "$$(-1-\\lambda)^2=0$$\n",
        "$$\\lambda = -1$$\n",
        "\n",
        "\n",
        "Теперь найдем собственные векторы вида $\\begin{pmatrix}\n",
        "x_{1}\\\\ \n",
        "x_{2}\n",
        "\\end{pmatrix}$, подставив полученное собственное значение в выражение $\\textbf{A}x=\\lambda x$:\n",
        "\n",
        "$$\\begin{pmatrix}\n",
        "-1 & 0\\\\ \n",
        "0 & -1\n",
        "\\end{pmatrix}\n",
        "\\begin{pmatrix}\n",
        "x_{1}\\\\ \n",
        "x_{2}\n",
        "\\end{pmatrix}=\n",
        "-1 \\cdot\n",
        "\\begin{pmatrix}\n",
        "x_{1}\\\\ \n",
        "x_{2}\n",
        "\\end{pmatrix}.\n",
        "$$"
      ]
    },
    {
      "cell_type": "markdown",
      "metadata": {
        "id": "IzvAwCghwZgf"
      },
      "source": [
        "Получим\n",
        "\n",
        "$$\\begin{cases}\n",
        "-x_{1}= -x_{1} \\\\\n",
        "-x_{2} = -x_{2}\n",
        "\\end{cases}$$ \n",
        "\n",
        "$$\\begin{cases}\n",
        "x_{1}= x_{1}, \\\\\n",
        "x_{2} = x_{2}\n",
        "\\end{cases}$$ \n",
        "Могут быть любые $x_{1}, x_{2}$."
      ]
    },
    {
      "cell_type": "code",
      "metadata": {
        "id": "tdyimfKr2UKW",
        "outputId": "e0678b6a-16b8-43c1-a095-e713ff325fb6",
        "colab": {
          "base_uri": "https://localhost:8080/"
        }
      },
      "source": [
        "a = np.array([[-1, 0], [0, -1]])\n",
        "w, v = np.linalg.eig(a)\n",
        "\n",
        "print(f'Матрица A:\\n{a}')\n",
        "print(f'Собственные значения:\\n{w}')\n",
        "print(f'Собственные векторы:\\n{v}')"
      ],
      "execution_count": null,
      "outputs": [
        {
          "output_type": "stream",
          "text": [
            "Матрица A:\n",
            "[[-1  0]\n",
            " [ 0 -1]]\n",
            "Собственные значения:\n",
            "[-1. -1.]\n",
            "Собственные векторы:\n",
            "[[1. 0.]\n",
            " [0. 1.]]\n"
          ],
          "name": "stdout"
        }
      ]
    },
    {
      "cell_type": "markdown",
      "metadata": {
        "id": "8MVtMr3LxDuC"
      },
      "source": [
        "__5.3.__ Пусть линейный оператор задан матрицей\n",
        "\n",
        "$$A=\\begin{pmatrix}\n",
        "1 & 1\\\\ \n",
        "-1 & 3\n",
        "\\end{pmatrix}.$$\n",
        "\n",
        "Установить, является ли вектор $x=(1,1)$ собственным вектором этого линейного оператора."
      ]
    },
    {
      "cell_type": "markdown",
      "metadata": {
        "id": "Ne7fP9w8zg9n"
      },
      "source": [
        "$$\\begin{pmatrix}\n",
        "1 & 1\\\\ \n",
        "-1 & 3\n",
        "\\end{pmatrix}\n",
        "\\begin{pmatrix}\n",
        "1\\\\ \n",
        "1\n",
        "\\end{pmatrix}=\n",
        "\\lambda\n",
        "\\begin{pmatrix}\n",
        "1\\\\ \n",
        "1\n",
        "\\end{pmatrix}\n",
        "$$\n",
        "\n",
        "$$\\begin{cases}\n",
        "1+1= \\lambda \\\\\n",
        "-1+3= \\lambda\n",
        "\\end{cases}$$ \n",
        "\n",
        "$$\\begin{cases}\n",
        "\\lambda = 2 \\\\\n",
        "\\lambda = 2\n",
        "\\end{cases}$$ \n",
        "Да, заданный вектор $\\begin{pmatrix}\n",
        "1\\\\ \n",
        "1\n",
        "\\end{pmatrix}$ является собственным."
      ]
    },
    {
      "cell_type": "code",
      "metadata": {
        "id": "ssBWHV0W2kKB",
        "outputId": "a2f2aa2e-7cdd-492b-c296-bc498a06a7d8",
        "colab": {
          "base_uri": "https://localhost:8080/"
        }
      },
      "source": [
        "a = np.array([[1, 1], [-1, 3]])\n",
        "w, v = np.linalg.eig(a)\n",
        "\n",
        "print(f'Матрица A:\\n{a}')\n",
        "print(f'Собственные значения:\\n{w}') \n",
        "print(f'Собственные векторы:\\n{v}')"
      ],
      "execution_count": null,
      "outputs": [
        {
          "output_type": "stream",
          "text": [
            "Матрица A:\n",
            "[[ 1  1]\n",
            " [-1  3]]\n",
            "Собственные значения:\n",
            "[2.00000002 1.99999998]\n",
            "Собственные векторы:\n",
            "[[ 0.70710677 -0.70710679]\n",
            " [ 0.70710679 -0.70710677]]\n"
          ],
          "name": "stdout"
        }
      ]
    },
    {
      "cell_type": "markdown",
      "metadata": {
        "id": "CBvh8_weqllQ"
      },
      "source": [
        "__4.__ Пусть линейный оператор задан матрицей\n",
        "\n",
        "$$A=\\begin{pmatrix}\n",
        "0 & 3 & 0\\\\ \n",
        "3 & 0 & 0\\\\\n",
        "0 & 0 & 3\n",
        "\\end{pmatrix}.$$\n",
        "\n",
        "Установить, является ли вектор $x=(3, -3, -4)$ собственным вектором этого линейного оператора."
      ]
    },
    {
      "cell_type": "markdown",
      "metadata": {
        "id": "xoaJpiGC3Vzf"
      },
      "source": [
        "$$\\begin{pmatrix}\n",
        "0 & 3 & 0\\\\ \n",
        "3 & 0 & 0\\\\\n",
        "0 & 0 & 3\n",
        "\\end{pmatrix}\n",
        "\\begin{pmatrix}\n",
        "3\\\\ \n",
        "-3\\\\\n",
        "-4\n",
        "\\end{pmatrix}=\n",
        "\\lambda\n",
        "\\begin{pmatrix}\n",
        "3\\\\ \n",
        "-3\\\\\n",
        "-4\n",
        "\\end{pmatrix}\n",
        "$$\n",
        "\n",
        "$$\\begin{cases}\n",
        "0 - 9 + 0 = 3\\lambda \\\\\n",
        "9 + 0 + 0 = -3\\lambda \\\\\n",
        "0 + 0 - 12 = -4\\lambda\n",
        "\\end{cases}$$ \n",
        "\n",
        "$$\\begin{cases}\n",
        "\\lambda = -3 \\\\\n",
        "\\lambda = -3 \\\\\n",
        "\\lambda = 3\n",
        "\\end{cases}$$ \n",
        "Все $\\lambda$ не равны между собой, система не имеет смысла, значит, заданный вектор $\\begin{pmatrix}\n",
        "3\\\\ \n",
        "-3 \\\\\n",
        "-4\n",
        "\\end{pmatrix}$ не является собственным."
      ]
    },
    {
      "cell_type": "code",
      "metadata": {
        "id": "A12nrSU54s_k",
        "outputId": "e8928023-ee7f-4b8a-9216-cf5af1828234",
        "colab": {
          "base_uri": "https://localhost:8080/"
        }
      },
      "source": [
        "a = np.array([[0, 3, 0], [3, 0, 0], [0,0,3]])\n",
        "w, v = np.linalg.eig(a)\n",
        "\n",
        "print(f'Матрица A:\\n{a}')\n",
        "print(f'Собственные значения:\\n{w}') \n",
        "print(f'Собственные векторы:\\n{v}')"
      ],
      "execution_count": null,
      "outputs": [
        {
          "output_type": "stream",
          "text": [
            "Матрица A:\n",
            "[[0 3 0]\n",
            " [3 0 0]\n",
            " [0 0 3]]\n",
            "Собственные значения:\n",
            "[ 3. -3.  3.]\n",
            "Собственные векторы:\n",
            "[[ 0.70710678 -0.70710678  0.        ]\n",
            " [ 0.70710678  0.70710678  0.        ]\n",
            " [ 0.          0.          1.        ]]\n"
          ],
          "name": "stdout"
        }
      ]
    }
  ]
}