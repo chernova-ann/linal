{
  "nbformat": 4,
  "nbformat_minor": 0,
  "metadata": {
    "colab": {
      "name": "hw_2_linal.ipynb",
      "provenance": [],
      "collapsed_sections": []
    },
    "kernelspec": {
      "name": "python3",
      "display_name": "Python 3"
    }
  },
  "cells": [
    {
      "cell_type": "code",
      "metadata": {
        "id": "6D2s6vuLSyIk"
      },
      "source": [
        "import numpy as np"
      ],
      "execution_count": null,
      "outputs": []
    },
    {
      "cell_type": "markdown",
      "metadata": {
        "id": "k6I9wg0dVsl0"
      },
      "source": [
        "__3.1.__ Установить, какие произведения матриц $AB$ и $BA$ определены, и найти размерности полученных матриц:\n",
        "\n",
        "   а) $A$ — матрица $4\\times 2$, $B$ — матрица $4\\times 2$;\n",
        "    \n",
        "   б) $A$ — матрица $2\\times 5$, $B$ — матрица $5\\times 3$;\n",
        "    \n",
        "   в) $A$ — матрица $8\\times 3$, $B$ — матрица $3\\times 8$;\n",
        "    \n",
        "   г) $A$ — квадратная матрица $4\\times 4$, $B$ — квадратная матрица $4\\times 4$."
      ]
    },
    {
      "cell_type": "markdown",
      "metadata": {
        "id": "dCUZwDWizhM3"
      },
      "source": [
        "a) m = 4, n1 = 2, n2 = 4, k = 2 <br>\n",
        "$ n1 \\neq n2 $ <br>\n",
        "$ A\\cdot B \\neq , B\\cdot A \\neq$\n",
        "\n",
        "б) m = 2, n1 = 5, n2 = 5, k = 3 <br>\n",
        "$ n1 == n2, m \\neq k $ <br>\n",
        "$ A\\cdot B = 2X3 , B\\cdot A \\neq$\n",
        "\n",
        "в) m = 8, n1 = 3, n2 = 3, k = 8 <br>\n",
        "$ n1 == n2, m == k $ <br>\n",
        "$ A\\cdot B = 8X8 , B\\cdot A = 3X3$\n",
        "\n",
        "г) m = 4, n1 = 4, n2 = 4, k = 4 <br>\n",
        "$ n1 == n2,  m == k $ <br>\n",
        "$ A\\cdot B = 4X4 , B\\cdot A = 4X4$"
      ]
    },
    {
      "cell_type": "markdown",
      "metadata": {
        "id": "HgJg4rZb3E9T"
      },
      "source": [
        "__3.2.__ Найти сумму и произведение матриц \n",
        "$A=\\begin{pmatrix}\n",
        "1 & -2\\\\ \n",
        "3 & 0\n",
        "\\end{pmatrix}$ и $B=\\begin{pmatrix}\n",
        "4 & -1\\\\ \n",
        "0 & 5\n",
        "\\end{pmatrix}.$"
      ]
    },
    {
      "cell_type": "markdown",
      "metadata": {
        "id": "-38z7-J83Yvi"
      },
      "source": [
        "$$ A + B = \n",
        "\\begin{pmatrix}\n",
        "1 & -2\\\\ \n",
        "3 & 0\n",
        "\\end{pmatrix} + \\begin{pmatrix}\n",
        "4 & -1\\\\ \n",
        "0 & 5\n",
        "\\end{pmatrix} =\n",
        "\\begin{pmatrix}\n",
        "5 & -3\\\\ \n",
        "3 & 5\n",
        "\\end{pmatrix} $$\n",
        "\n",
        "$ A \\cdot B = \n",
        "\\begin{pmatrix}\n",
        "1 & -2\\\\ \n",
        "3 & 0\n",
        "\\end{pmatrix} \\cdot \\begin{pmatrix}\n",
        "4 & -1\\\\ \n",
        "0 & 5\n",
        "\\end{pmatrix} =\n",
        "\\begin{pmatrix}\n",
        "(1\\cdot 4 + (-2) \\cdot 0) & (1 \\cdot (-1) + (-2) \\cdot 5)\\\\ \n",
        "(3 \\cdot 4 + 0 \\cdot 0) & (3 \\cdot (-1) + 0 \\cdot 5)\n",
        "\\end{pmatrix} = \n",
        "\\begin{pmatrix}\n",
        "4 & -11\\\\ \n",
        "12 & -3\n",
        "\\end{pmatrix}$\n",
        "\n",
        "$ B \\cdot A = \n",
        "\\begin{pmatrix}\n",
        "4 & -1\\\\ \n",
        "0 & 5\n",
        "\\end{pmatrix} \\cdot \\begin{pmatrix}\n",
        "1 & -2\\\\ \n",
        "3 & 0\n",
        "\\end{pmatrix} =\n",
        "\\begin{pmatrix}\n",
        "(4\\cdot 1 + (-1) \\cdot 3) & (4 \\cdot (-2) + (-1) \\cdot 0)\\\\ \n",
        "(0 \\cdot 1 + 5 \\cdot 3) & (0 \\cdot (-2) + 5 \\cdot 0)\n",
        "\\end{pmatrix} = \n",
        "\\begin{pmatrix}\n",
        "1 & -8\\\\ \n",
        "15 & 0\n",
        "\\end{pmatrix}$\n",
        "\n"
      ]
    },
    {
      "cell_type": "code",
      "metadata": {
        "id": "svIfHwqr7Htd",
        "outputId": "2fbc5e95-b32c-4367-9861-072196d4378a",
        "colab": {
          "base_uri": "https://localhost:8080/"
        }
      },
      "source": [
        "A = np.array([[1, -2], [3, 0]])\n",
        "B = np.array([[4, -1], [0,5]])  \n",
        "print(f'Матрица A\\n{A}\\n')\n",
        "print(f'Матрица B\\n{B}\\n')\n",
        "print(f'Матрица С = A + B\\n{A + B}')\n",
        "print(f'Матрица AB\\n{np.dot(A, B)}')\n",
        "print(f'Матрица BA\\n{np.dot(B, A)}')"
      ],
      "execution_count": null,
      "outputs": [
        {
          "output_type": "stream",
          "text": [
            "Матрица A\n",
            "[[ 1 -2]\n",
            " [ 3  0]]\n",
            "\n",
            "Матрица B\n",
            "[[ 4 -1]\n",
            " [ 0  5]]\n",
            "\n",
            "Матрица С = A + B\n",
            "[[ 5 -3]\n",
            " [ 3  5]]\n",
            "Матрица AB\n",
            "[[  4 -11]\n",
            " [ 12  -3]]\n",
            "Матрица BA\n",
            "[[ 1 -8]\n",
            " [15  0]]\n"
          ],
          "name": "stdout"
        }
      ]
    },
    {
      "cell_type": "markdown",
      "metadata": {
        "id": "rUPbQkFS3gDR"
      },
      "source": [
        "__3.3.__ Из закономерностей сложения и умножения матриц на число можно сделать вывод, что матрицы одного размера образуют линейное пространство. Вычислить линейную комбинацию $3A-2B+4C$ для матриц $A=\\begin{pmatrix}\n",
        "1 & 7\\\\ \n",
        "3 & -6\n",
        "\\end{pmatrix}$, $B=\\begin{pmatrix}\n",
        "0 & 5\\\\ \n",
        "2 & -1\n",
        "\\end{pmatrix}$, $C=\\begin{pmatrix}\n",
        "2 & -4\\\\ \n",
        "1 & 1\n",
        "\\end{pmatrix}.$\n",
        "    \n"
      ]
    },
    {
      "cell_type": "markdown",
      "metadata": {
        "id": "vQr2NG2v9S5Y"
      },
      "source": [
        "$3A-2B+4C=\\begin{pmatrix}\n",
        "3 & 21\\\\ \n",
        "9 & -18\n",
        "\\end{pmatrix} - \\begin{pmatrix}\n",
        "0 & 10\\\\ \n",
        "4 & -2\n",
        "\\end{pmatrix} + \\begin{pmatrix}\n",
        "8 & -16\\\\ \n",
        "4 & 4\n",
        "\\end{pmatrix} = \\begin{pmatrix}\n",
        "11 & -5\\\\ \n",
        "9 & -12\n",
        "\\end{pmatrix} $"
      ]
    },
    {
      "cell_type": "code",
      "metadata": {
        "id": "MwMMRc1R-lHq",
        "outputId": "8c3adba9-c20a-4f1f-99c3-5605173aeb4c",
        "colab": {
          "base_uri": "https://localhost:8080/"
        }
      },
      "source": [
        "A = np.array([[1, 7], [3, -6]])\n",
        "B = np.array([[0, 5], [2,-1]]) \n",
        "C = np.array([[2, -4], [1,1]]) \n",
        "\n",
        "print(f'Матрица 3A-2B + 4C\\n{3*A - 2*B + 4*C}')\n"
      ],
      "execution_count": null,
      "outputs": [
        {
          "output_type": "stream",
          "text": [
            "Матрица 3A-2B + 4C\n",
            "[[ 11  -5]\n",
            " [  9 -12]]\n"
          ],
          "name": "stdout"
        }
      ]
    },
    {
      "cell_type": "markdown",
      "metadata": {
        "id": "ROQtoIxc3hM0"
      },
      "source": [
        "__3.4.__ Дана матрица $A=\\begin{pmatrix}\n",
        "4 & 1\\\\ \n",
        "5 & -2\\\\ \n",
        "2 & 3\n",
        "\\end{pmatrix}$.\n",
        "Вычислить $AA^{T}$ и $A^{T}A$.\n"
      ]
    },
    {
      "cell_type": "markdown",
      "metadata": {
        "id": "nJ4V9fbcAWUn"
      },
      "source": [
        "$A=\\begin{pmatrix}\n",
        "4 & 1\\\\ \n",
        "5 & -2\\\\ \n",
        "2 & 3\n",
        "\\end{pmatrix}$\n",
        "$A^{T}=\\begin{pmatrix}\n",
        "4 & 5 & 2\\\\ \n",
        "1 & -2 & 3\n",
        "\\end{pmatrix}$\n",
        "\n",
        "$AA^{T} = \\begin{pmatrix}\n",
        "(4 \\cdot 4 + 1\\cdot 1) & (4 \\cdot 5 + 1 \\cdot (-2)) & (4 \\cdot 2 + 1 \\cdot 3)\\\\ \n",
        "(5 \\cdot 4 + (-2) \\cdot 1) & (5 \\cdot 5 + (-2) \\cdot (-2)) & (5 \\cdot 2 + (-2) \\cdot 3) \\\\\n",
        "(2 \\cdot 4 + 3 \\cdot 1) & (2 \\cdot 5 + 3 \\cdot (-2)) & (2 \\cdot 2 + 3 \\cdot 3)\n",
        "\\end{pmatrix}=\n",
        "\\begin{pmatrix}\n",
        "17 & 18 & 11\\\\ \n",
        "18 & 29 & 4\\\\\n",
        "11 & 4 & 13\n",
        "\\end{pmatrix}$ \n",
        "\n",
        "$A^{T}A = \\begin{pmatrix}\n",
        "(4^2 + 5^2 + 2^2) & (4 \\cdot 1 + 5 \\cdot (-2) + 2 \\cdot 3) \\\\\n",
        "(1 \\cdot 4 + (-2) \\cdot 5 + 3 \\cdot 2) & (1^2 + (-2)^2 + 3^2) \n",
        "\\end{pmatrix}=\n",
        "\\begin{pmatrix}\n",
        "45 & 0 \\\\ \n",
        "0 & 14 \n",
        "\\end{pmatrix}$"
      ]
    },
    {
      "cell_type": "code",
      "metadata": {
        "id": "Xv7Pd_C4Xn6I",
        "outputId": "b373fb03-4eb5-4d08-9240-a55b947c85a5",
        "colab": {
          "base_uri": "https://localhost:8080/"
        }
      },
      "source": [
        "A = np.array([[4, 1], [5, -2], [2,3]])\n",
        "\n",
        "print(f'Транспонированная матрица A_T: \\n{A.T}')\n",
        "print(f'Произведеие A*A_T: \\n{A.dot(A.T)}')\n",
        "print(f'Произведение A_T*A: \\n{A.T.dot(A)}')"
      ],
      "execution_count": null,
      "outputs": [
        {
          "output_type": "stream",
          "text": [
            "Транспонированная матрица A_T: \n",
            "[[ 4  5  2]\n",
            " [ 1 -2  3]]\n",
            "Произведеие A*A_T: \n",
            "[[17 18 11]\n",
            " [18 29  4]\n",
            " [11  4 13]]\n",
            "Произведение A_T*A: \n",
            "[[45  0]\n",
            " [ 0 14]]\n"
          ],
          "name": "stdout"
        }
      ]
    },
    {
      "cell_type": "markdown",
      "metadata": {
        "id": "9Htol_TI_tcX"
      },
      "source": [
        "\n",
        "__3.5*.__ Написать на Python функцию для перемножения двух произвольных матриц, не используя NumPy."
      ]
    },
    {
      "cell_type": "code",
      "metadata": {
        "id": "xNB1C5I8Y_-v"
      },
      "source": [
        "def mult_func(A, B):\n",
        "    return [[sum(a * b for a, b in zip(row_a, col_b)) for col_b in zip(*B)] for row_a in A]"
      ],
      "execution_count": null,
      "outputs": []
    },
    {
      "cell_type": "code",
      "metadata": {
        "id": "K35iFNvDZKUT"
      },
      "source": [
        "A = np.array([[1, 1], [2, 2]])\n",
        "B = np.array([[0, 3], [-2,0]]) "
      ],
      "execution_count": null,
      "outputs": []
    },
    {
      "cell_type": "code",
      "metadata": {
        "id": "1JDQlg-DZTR4",
        "outputId": "50224606-58c0-4639-914c-5b28febe37a9",
        "colab": {
          "base_uri": "https://localhost:8080/"
        }
      },
      "source": [
        "mult_func(A, B)"
      ],
      "execution_count": null,
      "outputs": [
        {
          "output_type": "execute_result",
          "data": {
            "text/plain": [
              "[[-2, 3], [-4, 6]]"
            ]
          },
          "metadata": {
            "tags": []
          },
          "execution_count": 11
        }
      ]
    },
    {
      "cell_type": "code",
      "metadata": {
        "id": "q0YRo1VOZW1b",
        "outputId": "4a65a9f7-cf52-4dc3-a097-9381fc2a9880",
        "colab": {
          "base_uri": "https://localhost:8080/"
        }
      },
      "source": [
        "A.dot(B)"
      ],
      "execution_count": null,
      "outputs": [
        {
          "output_type": "execute_result",
          "data": {
            "text/plain": [
              "array([[-2,  3],\n",
              "       [-4,  6]])"
            ]
          },
          "metadata": {
            "tags": []
          },
          "execution_count": 12
        }
      ]
    },
    {
      "cell_type": "markdown",
      "metadata": {
        "id": "96pZRCXOaUeP"
      },
      "source": [
        "Все задания рекомендуется выполнять вручную, затем проверяя полученные результаты с использованием Numpy.\n",
        "\n",
        "__4.1.__ Вычислить определитель:\n",
        "\n",
        "   a)\n",
        "\n",
        "$$\\begin{vmatrix}\n",
        "sinx & -cosx\\\\ \n",
        "cosx & sinx\n",
        "\\end{vmatrix} = sin^2x + cos^2x = 1$$\n",
        "\n",
        "   б)\n",
        "    Нижняя треугольная матрица\n",
        "$$\\begin{vmatrix}\n",
        "4 & 2 & 3\\\\ \n",
        "0 & 5 & 1\\\\ \n",
        "0 & 0 & 9\n",
        "\\end{vmatrix} = 4*5*9 = 180$$\n",
        "    \n",
        "   в)\n",
        "\n",
        "$$\\begin{vmatrix}\n",
        "1 & 2 & 3\\\\ \n",
        "4 & 5 & 6\\\\ \n",
        "7 & 8 & 9\n",
        "\\end{vmatrix} = 1\\cdot5\\cdot9 + 2 \\cdot 6 \\cdot 7 + 3 \\cdot 4 \\cdot 8 - 7\\cdot 5 \\cdot 3 - 8\\cdot 6 \\cdot 1 - 9 \\cdot 4 \\cdot 2 = 45 + 84 + 96 - 105 - 48 - 72 = 0$$\n"
      ]
    },
    {
      "cell_type": "code",
      "metadata": {
        "id": "2OJwfw4Na3aL",
        "outputId": "e819994d-7a09-41d7-b6a6-09436dd35fdd",
        "colab": {
          "base_uri": "https://localhost:8080/"
        }
      },
      "source": [
        "B = np.array([[4,2,3], [0,5,1], [0,0,9]])\n",
        "C = np.array([[1,2,3], [4,5,6,], [7,8,9]])\n",
        "np.linalg.det(B)"
      ],
      "execution_count": null,
      "outputs": [
        {
          "output_type": "execute_result",
          "data": {
            "text/plain": [
              "180.0"
            ]
          },
          "metadata": {
            "tags": []
          },
          "execution_count": 17
        }
      ]
    },
    {
      "cell_type": "code",
      "metadata": {
        "id": "-wFF2rDfbR4t",
        "outputId": "610e0cdb-441d-401a-adf5-c417223dbe75",
        "colab": {
          "base_uri": "https://localhost:8080/"
        }
      },
      "source": [
        "np.linalg.det(C)"
      ],
      "execution_count": null,
      "outputs": [
        {
          "output_type": "execute_result",
          "data": {
            "text/plain": [
              "0.0"
            ]
          },
          "metadata": {
            "tags": []
          },
          "execution_count": 18
        }
      ]
    },
    {
      "cell_type": "markdown",
      "metadata": {
        "id": "zAQZEftldI6K"
      },
      "source": [
        "__4.2.__ Определитель матрицы $A$ равен $4$. Найти:\n",
        "\n",
        "   а) $det(A^{2}) = det(A) \\cdot det(A) = 4 \\cdot 4 = 16$;\n",
        "    \n",
        "   б) $det(A^{T}) = det(A) = 4$;\n",
        "    \n",
        "   в) $det(2A) = 2^ndet(A) = 2^n \\cdot 4$, где n - количество строк"
      ]
    },
    {
      "cell_type": "markdown",
      "metadata": {
        "id": "7DwZUBq54Fcp"
      },
      "source": [
        "__4.3.__  Доказать, что матрица\n",
        "\n",
        "$$\\begin{pmatrix}\n",
        "-2 & 7 & -3\\\\ \n",
        "4 & -14 & 6\\\\ \n",
        "-3 & 7 & 13\n",
        "\\end{pmatrix}$$\n",
        "   \n",
        "вырожденная.\n",
        "\n",
        "$$\\begin{vmatrix}\n",
        "-2 & 7 & -3\\\\ \n",
        "4 & -14 & 6\\\\ \n",
        "-3 & 7 & 13\n",
        "\\end{vmatrix} = -2\\cdot(-14)\\cdot13 + 7 \\cdot 6 \\cdot (-3) + (-3) \\cdot 4 \\cdot 7 - (-3)\\cdot (-14)\\cdot (-3) - 7\\cdot 6 \\cdot (-2) - 13 \\cdot 4 \\cdot 7 = 364 - 126 - 84 + 126 + 84 - 364 = 0 $$\n",
        "\n",
        "$detA = 0$, для нее не существует обратной матрицы. A - вырожденная матрица."
      ]
    },
    {
      "cell_type": "code",
      "metadata": {
        "id": "u2vgxzNM6Tk_",
        "outputId": "bdf7cdba-2cf5-40d5-f9b7-aaaf87536556",
        "colab": {
          "base_uri": "https://localhost:8080/"
        }
      },
      "source": [
        "A = np.array([[-2,7,-3], [4,-14,6], [-3,7,13]])\n",
        "np.linalg.det(A)"
      ],
      "execution_count": null,
      "outputs": [
        {
          "output_type": "execute_result",
          "data": {
            "text/plain": [
              "0.0"
            ]
          },
          "metadata": {
            "tags": []
          },
          "execution_count": 19
        }
      ]
    },
    {
      "cell_type": "markdown",
      "metadata": {
        "id": "U0cQHbgvauoj"
      },
      "source": [
        "\n",
        "__4.4__ Найти ранг матрицы:\n",
        "\n",
        "   а) $\\begin{pmatrix}\n",
        "1 & 2 & 3\\\\ \n",
        "1 & 1 & 1\\\\ \n",
        "2 & 3 & 4\n",
        "\\end{pmatrix}$\n",
        "Третья строка сумма первых двух, убираем её.\n",
        "$\\begin{pmatrix}\n",
        "1 & 2 & 3\\\\ \n",
        "1 & 1 & 1\n",
        "\\end{pmatrix}$\n",
        "Вычитаем вторую строку из первой\n",
        "\n",
        " $\\begin{pmatrix}\n",
        "0 & 1 & 2\\\\ \n",
        "1 & 1 & 1\n",
        "\\end{pmatrix}$\n",
        "\n",
        "rank = 2\n",
        "\n",
        "   б) $\\begin{pmatrix}\n",
        "0 & 0 & 2 & 1\\\\ \n",
        "0 & 0 & 2 & 2\\\\ \n",
        "0 & 0 & 4 & 3\\\\ \n",
        "2 & 3 & 5 & 6\n",
        "\\end{pmatrix}$ третья строка сумма првой и второй, значит можно убрать.\n",
        "\n",
        "$\\begin{pmatrix}\n",
        "0 & 0 & 2 & 1\\\\ \n",
        "0 & 0 & 2 & 2\\\\ \n",
        "2 & 3 & 5 & 6\n",
        "\\end{pmatrix}$ \n",
        "\n",
        "rank = 3"
      ]
    },
    {
      "cell_type": "code",
      "metadata": {
        "id": "SX3UcT86avwx",
        "outputId": "838d60fa-8ee6-4996-d8b8-0c3287b821f8",
        "colab": {
          "base_uri": "https://localhost:8080/"
        }
      },
      "source": [
        "a = np.array([[1,2,3], [1,1,1], [2,3,4]])\n",
        "b = np.array([[0,0,2,1], [0,0,2,2], [0,0,4,3], [2,3,5,6]])\n",
        "rank_a = np.linalg.matrix_rank(a)\n",
        "rank_b = np.linalg.matrix_rank(b)\n",
        "rank_a, rank_b"
      ],
      "execution_count": null,
      "outputs": [
        {
          "output_type": "execute_result",
          "data": {
            "text/plain": [
              "(2, 3)"
            ]
          },
          "metadata": {
            "tags": []
          },
          "execution_count": 21
        }
      ]
    },
    {
      "cell_type": "code",
      "metadata": {
        "id": "WY6oGcDW7_1z"
      },
      "source": [
        ""
      ],
      "execution_count": null,
      "outputs": []
    }
  ]
}