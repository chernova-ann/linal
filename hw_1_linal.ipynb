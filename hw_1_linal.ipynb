{
  "nbformat": 4,
  "nbformat_minor": 0,
  "metadata": {
    "colab": {
      "name": "Untitled1.ipynb",
      "provenance": [],
      "collapsed_sections": []
    },
    "kernelspec": {
      "name": "python3",
      "display_name": "Python 3"
    }
  },
  "cells": [
    {
      "cell_type": "code",
      "metadata": {
        "id": "bWi23lFKfbs1"
      },
      "source": [
        ""
      ],
      "execution_count": null,
      "outputs": []
    },
    {
      "cell_type": "markdown",
      "metadata": {
        "id": "SmdURZ_OkVqQ"
      },
      "source": [
        "__1.1__ Исследовать на линейную зависимость:\n",
        "\n",
        "$$f_{1}(x)=e^{x}, f_{2}(x)=1, f_{3}(x)=x+1, f_{4}(x)=x-e^{x}.$$\n"
      ]
    },
    {
      "cell_type": "markdown",
      "metadata": {
        "id": "PlulcvaCqD_1"
      },
      "source": [
        "$$ f_{4}(x) = f_{3}(x) - f_{2}(x) - f_{1}(x)$$"
      ]
    },
    {
      "cell_type": "markdown",
      "metadata": {
        "id": "cu0RBRhFqTsQ"
      },
      "source": [
        "$f_{4}(x)$ - линейная комбинация векторов $f_{1}(x), f_{2}(x), f_{3}(x)$\n",
        "\n",
        "Значит, $f_{1}(x)=e^{x}, f_{2}(x)=1, f_{3}(x)=x+1, f_{4}(x)=x-e^{x}$ линейно зависимы."
      ]
    },
    {
      "cell_type": "markdown",
      "metadata": {
        "id": "cBRqI2y2lF9G"
      },
      "source": [
        "__1.2.__ Исследовать на линейную зависимость:\n",
        "$$f_{1}(x)=2, f_{2}(x)=x, f_{3}(x)=x^{2}, f_{4}(x)=(x+1)^{2}.$$\n",
        "\n",
        "$f_{4}(x) = x^2 + 2x + 1$ \n",
        "\n",
        "$f_{4}(x) = f_{3}(x) +2f_{2}(x) +0.5f_{1}(x)$\n",
        "\n",
        "$f_{4}(x)$ - линейная комбинация векторов $f_{1}(x), f_{2}(x), f_{3}(x)$\n",
        "\n",
        "Значит, $f_{1}(x)=2, f_{2}(x)=x, f_{3}(x)=x^{2}, f_{4}(x)=(x+1)^{2}$ линейно зависимы.\n"
      ]
    },
    {
      "cell_type": "markdown",
      "metadata": {
        "id": "gHNwB_bvtDib"
      },
      "source": [
        "__1.3.__ Найти координаты вектора $x = (2, 3, 5)\\in \\mathbb{R}^{3}$ в базисе $b_{1}=(0, 0, 10)$, $b_{2}=(2, 0, 0)$, $b_{3}=(0, 1, 0)$.\n",
        "\n",
        "$(2, 3, 5) = b_{2} + 3b_{3} + 0.5b_{1} = (0.5, 1, 3)$"
      ]
    },
    {
      "cell_type": "markdown",
      "metadata": {
        "id": "jt68B1C-uD_y"
      },
      "source": [
        "__1.4.__ Найти координаты вектора  $3x^2−2x+2∈R3[x]$ :\n",
        "\n",
        "а) в базисе  $1 ,  x ,  x^2$;\n",
        "\n",
        "б) в базисе  $x^2 ,  x−1 ,  1$."
      ]
    },
    {
      "cell_type": "markdown",
      "metadata": {
        "id": "FORVWttBuQfu"
      },
      "source": [
        "a) $e_{1} = 1, e_{2} = x, e_{3} = x^2$\n",
        "\n",
        "$3x^2 - 2x + 2 = 2e_{1} -2e_{2} + 3e_{3}$ (2, -2, 3)\n",
        "\n",
        "б) $e_{1} = x^2, e_{2} = x - 1, e_{3} = 1$\n",
        "\n",
        "$3x^2 - 2x + 2 =  3e_{1} - 2e_{2} $ (3, -2, 0)"
      ]
    },
    {
      "cell_type": "markdown",
      "metadata": {
        "id": "ua496t5iwR9-"
      },
      "source": [
        "__1.5.__ Установить, является ли линейным подпространством:\n",
        "\n",
        "а) совокупность всех векторов трехмерного пространства, у которых по крайней мере одна из первых двух координат равна нулю;\n",
        "\n",
        "(0, a, b), (0, c, d), (0, e, f)\n",
        "\n",
        "(0, a, b) + (0, c, d) + (0, e, f) = (0, a+c, b+d) + (0, e, f) = (0, a+c+e, b+d+f)\n",
        "\n",
        "$$\\alpha\\cdot (0, a, b) = (0, \\alpha a, \\alpha b).$$\n",
        "\n",
        "Полученные векторы также принадлежат указанному в задании множеству всех векторов вида $(0, a, b)$, то есть данное множество является подпространством линейного пространства $\\mathbb{R}^{3}$.\n",
        "\n",
        "(0, a, b) + (c, 0, d) + (0, e, f) = (c, a + e, b+d+f) - не принадлежит заданному множеству векторов, не является подпрастранством линейного пространства.\n",
        "\n",
        "\n",
        "б) все векторы, являющиеся линейными комбинациями данных векторов  {u1,u2,...,un} .\n",
        "\n",
        "$$ u = \\alpha_{1}\\cdot u_{1} + \\alpha_{2}\\cdot u_{2} + ... + \\alpha_{n}\\cdot u_{n}$$\n",
        "$$ v = \\beta_{1}\\cdot u_{1} + \\beta_{2}\\cdot u_{2} + ... + \\beta_{n}\\cdot u_{n}$$\n",
        "\n",
        "$$ u + v =  (\\alpha_{1} + \\beta_{1}) \\cdot u_{1} + ... + (\\alpha_{n} + \\beta_{n}) \\cdot u_{n} \\in L $$\n",
        "\n",
        "$$\\alpha\\cdot u \\in L$$\n",
        "Являются подпространством линейного пространства.\n",
        "\n",
        "\n",
        "\n"
      ]
    },
    {
      "cell_type": "markdown",
      "metadata": {
        "id": "LAAhUA3ywSbZ"
      },
      "source": [
        "__2.1.__ Найти скалярное произведение векторов $x, y \\in \\mathbb{R}$:<br>\n",
        "а) $x=(0,-3, 6),~y=(-4, 7, 9)$<br>\n",
        "$(x,y) = 0 - 21 + 54 = 33$\n",
        "\n",
        "б) $x=(7, -4, 0, 1),~y=(-3, 1, 11, 2)$\n",
        "\n",
        "$(x,y) = - 21 - 4 + 0 + 2 = - 23 $"
      ]
    },
    {
      "cell_type": "markdown",
      "metadata": {
        "id": "RQMmCgPJ3t10"
      },
      "source": [
        "__2.2__ Найти нормы векторов $a=(4, 2, 4)$ и $b=(12, 3, 4)$ и угол между ними.\n",
        "\n",
        "$$\\left\\|a\\right\\| = \\sqrt{4^2+2^2+4^2} =\\sqrt{36}=6$$\n",
        "$$\\left\\|b\\right\\| = \\sqrt{12^2+3^2+4^2} =\\sqrt{169}=13$$\n",
        "\n",
        "$$cos\\varphi = \\frac{(a,b)}{\\left \\|a\\right \\|\\cdot\\left \\|b\\right \\|}$$\n",
        "$$cos\\varphi = \\frac{48+6+16}{6\\cdot13} = \\frac{70}{78} = \\frac{35}{39}$$"
      ]
    },
    {
      "cell_type": "markdown",
      "metadata": {
        "id": "KLU4-qZ3Dez9"
      },
      "source": [
        "__2.3.__ Будет ли линейное пространство евклидовым, если за скалярное произведение принять:<br>\n",
        "а) произведение длин векторов;<br>\n",
        "б) утроенное обычное скалярное произведение векторов?"
      ]
    },
    {
      "cell_type": "markdown",
      "metadata": {
        "id": "g-tCKUBiDvwM"
      },
      "source": [
        "При этом указанное правило должно подчиняться четырем аксиомам:<br>\n",
        "1) $(x,y)=(y,x);$<br>\n",
        "2) $(\\lambda x, y)=\\lambda(x, y);$<br>\n",
        "3) $(x_{1}+x_{2},y)=(x_{1},y)+(x_{2},y);$<br>\n",
        "4) $(x, x)\\geq0$, причем $(x,x)=0\\Leftrightarrow x=0.$"
      ]
    },
    {
      "cell_type": "markdown",
      "metadata": {
        "id": "Ua8EPe2EENMd"
      },
      "source": [
        "$$ a) \\left \\|x\\right \\|\\cdot\\left \\|y\\right \\| - нет$$\n",
        "\n",
        "$ 1) \\left \\|x\\right \\|\\cdot\\left \\|y\\right \\| = \\left \\|y\\right \\|\\cdot\\left \\|x\\right \\| $ <br>\n",
        "$ 2) \\left \\|\\lambda x\\right \\|\\cdot\\left \\|y\\right \\| = \\lambda \\left \\|x\\right \\|\\cdot\\left \\|y\\right \\|$ <br>\n",
        "$ 3) ||x_{1} + x_{2}||\\cdot||y|| \\leq ||x_{1}||\\cdot||y|| + ||x_{2}||\\cdot||y|| $ <br>\n",
        "$ 4) ||x||\\cdot||x||\\geq 0 ||x||\\cdot||x|| = 0 \\Leftrightarrow x=0 $"
      ]
    },
    {
      "cell_type": "markdown",
      "metadata": {
        "id": "yAsgKQEDIX3g"
      },
      "source": [
        "$$ б) 3 \\cdot |x| \\cdot |y| \\cdot cos\\alpha - Да $$ \n",
        "\n",
        "1) $3 \\cdot |x| \\cdot |y| \\cdot cos\\alpha = 3 \\cdot |y| \\cdot |x| \\cdot cos\\alpha$<br>\n",
        "2) $(3 \\cdot |\\lambda x| \\cdot |y| \\cdot cos\\alpha = 3 \\lambda \\cdot |y| \\cdot |x| \\cdot cos\\alpha$<br>\n",
        "3) $3 \\cdot |x_{1} + x_{2}| \\cdot |y| \\cdot cos\\alpha = 3 \\cdot |x_{1}| \\cdot |y| \\cdot cos\\alpha + 3 \\cdot |x_{2}| \\cdot |y| \\cdot cos\\alpha$<br>\n",
        "4) $3\\cdot|x|\\cdot|x|\\cdot cos\\alpha\\geq0$, причем $3\\cdot|x|\\cdot|x|=0\\Leftrightarrow x=0$ "
      ]
    },
    {
      "cell_type": "markdown",
      "metadata": {
        "id": "O-HB2dEuIQJ8"
      },
      "source": [
        "__2.4.__ Какие из нижеперечисленных векторов образуют ортонормированный базис в линейном пространстве $\\mathbb{R}^{3}$:<br>\n",
        "а) $(1,0,0),(0,0,1);$ <br>\n",
        "б) $(1/\\sqrt{2},-1/\\sqrt{2},0),(1/\\sqrt{2},1/\\sqrt{2},0), (0,0,1);$<br>\n",
        "в) $(1/2, -1/2, 0), (0, 1/2, 1/2), (0,0,1);$<br>\n",
        "г) $(1,0,0),(0,1,0),(0,0,1)?$ "
      ]
    },
    {
      "cell_type": "markdown",
      "metadata": {
        "id": "ZnXuxMZSMvV5"
      },
      "source": [
        "a) Да, образуют ортонормированный базис.\n",
        "\n",
        "$(1,0,0),(0,0,1)$ <br>\n",
        "\n",
        "$(e_{1}, e_{1}) = 1 + 0 + 0 = 1 $<br>\n",
        "$(e_{1}, e_{2}) = 0 + 0 + 0 = 0 $<br>\n",
        "$(e_{2}, e_{2}) = 0 + 0 + 1 = 1 $ - "
      ]
    },
    {
      "cell_type": "markdown",
      "metadata": {
        "id": "8-HWLNMcOBr9"
      },
      "source": [
        "б) Да,  образуют ортонормированный базис в линейном пространстве $\\mathbb{R}^{3}$ <br>\n",
        "$(1/\\sqrt{2},-1/\\sqrt{2},0),(1/\\sqrt{2},1/\\sqrt{2},0), (0,0,1)$<br>\n",
        "\n",
        "$(e_{1}, e_{1}) = 1/2 + 1/2 + 0 = 1 $<br>\n",
        "$(e_{2}, e_{2}) = 1/2 + 1/2 + 0 = 1 $<br>\n",
        "$(e_{3}, e_{3}) = 0 + 0 + 1 = 1 $<br>\n",
        "$(e_{1}, e_{2}) = 1/2 - 1/2 + 0 = 0 $<br>\n",
        "$(e_{2}, e_{3}) = 0 + 0 + 0 = 0 $<br>\n",
        "$(e_{1}, e_{3}) = 0 + 0 + 0 = 0 $"
      ]
    },
    {
      "cell_type": "markdown",
      "metadata": {
        "id": "CW0aCxWrO-B2"
      },
      "source": [
        "в) Нет, не образуют ортонормированный базис в линейном пространстве $\\mathbb{R}^{3}$<br>\n",
        "$(1/2, -1/2, 0), (0, 1/2, 1/2), (0,0,1)$<br>\n",
        "\n",
        "$(e_{1}, e_{1}) = 1/4 + 1/4 + 0 = 1/2 \\neq 0 $<br>\n",
        "$(e_{2}, e_{2}) = 0 + 1/4 + 1/4 = 1/2 \\neq 0 $<br>\n",
        "$(e_{3}, e_{3}) = 0 + 0 + 1 = 1 $<br>\n",
        "$(e_{1}, e_{2}) = 0 - 1/4 + 0 = - 1/4 \\neq 0 $<br>\n",
        "$(e_{2}, e_{3}) = 0 + 0 + 1/2 = 1/2 \\neq 0 $<br>\n",
        "$(e_{1}, e_{3}) = 0 + 0 + 0 = 0 $<br>\n"
      ]
    },
    {
      "cell_type": "markdown",
      "metadata": {
        "id": "I0bfGEyaQhnR"
      },
      "source": [
        "г) Да, образуют ортонормированный базис в линейном пространстве $\\mathbb{R}^{3}$<br>\n",
        "$(1,0,0),(0,1,0),(0,0,1)$\n",
        "\n",
        "$(e_{1}, e_{1}) = 1 + 0 + 0 = 1 $<br>\n",
        "$(e_{2}, e_{2}) = 0 + 1 + 0 = 1 $<br>\n",
        "$(e_{3}, e_{3}) = 0 + 0 + 1 = 1 $<br>\n",
        "$(e_{1}, e_{2}) = 0 + 0 + 0 = 0 $<br>\n",
        "$(e_{2}, e_{3}) = 0 + 0 + 0 = 0 $<br>\n",
        "$(e_{1}, e_{3}) = 0 + 0 + 0 = 0 $<br>"
      ]
    },
    {
      "cell_type": "code",
      "metadata": {
        "id": "IVROcuvWRsKP"
      },
      "source": [
        ""
      ],
      "execution_count": null,
      "outputs": []
    }
  ]
}